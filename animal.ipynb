from animalShelter import AnimalShelter
dogs = a.read( {"type":"dog"}  )
for dog in dogs:
    print(dog)
